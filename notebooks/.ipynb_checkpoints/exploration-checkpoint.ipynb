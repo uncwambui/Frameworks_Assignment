{
 "cells": [
  {
   "cell_type": "code",
   "execution_count": null,
   "id": "96b8ec1a",
   "metadata": {
    "vscode": {
     "languageId": "plaintext"
    }
   },
   "outputs": [],
   "source": [
    "import pandas as pd\n",
    "\n",
    "# Load the data\n",
    "df = pd.read_csv(\"data/metadata.csv\")\n",
    "\n",
    "# Look at first 5 rows\n",
    "print(df.head())"
   ]
  }
 ],
 "metadata": {
  "language_info": {
   "name": "python"
  }
 },
 "nbformat": 4,
 "nbformat_minor": 5
}
